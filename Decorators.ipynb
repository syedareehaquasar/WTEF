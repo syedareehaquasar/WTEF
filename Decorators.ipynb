{
  "nbformat": 4,
  "nbformat_minor": 0,
  "metadata": {
    "colab": {
      "name": "Decorators.ipynb",
      "provenance": [],
      "include_colab_link": true
    },
    "kernelspec": {
      "name": "python3",
      "display_name": "Python 3"
    }
  },
  "cells": [
    {
      "cell_type": "markdown",
      "metadata": {
        "id": "view-in-github",
        "colab_type": "text"
      },
      "source": [
        "<a href=\"https://colab.research.google.com/github/syedareehaquasar/WTEF/blob/master/Decorators.ipynb\" target=\"_parent\"><img src=\"https://colab.research.google.com/assets/colab-badge.svg\" alt=\"Open In Colab\"/></a>"
      ]
    },
    {
      "cell_type": "markdown",
      "metadata": {
        "id": "zMvkHq2Ogg1-"
      },
      "source": [
        "# Decorators\n",
        "\n"
      ]
    },
    {
      "cell_type": "code",
      "metadata": {
        "colab": {
          "base_uri": "https://localhost:8080/"
        },
        "id": "ErC5MTyQgesw",
        "outputId": "b5d84ce0-fc25-4dfe-8152-f56e39a8210a"
      },
      "source": [
        "# recap \n",
        "def decorator_fn(func):\n",
        "    def decorated(a, b):\n",
        "        if b == 0:\n",
        "            print('Integer division by 0 not permitted')\n",
        "            return 0\n",
        "        return func(a, b)\n",
        "    return decorated\n",
        "\n",
        "@decorator_fn\n",
        "def divide1(x, y):\n",
        "    return x // y\n",
        "\n",
        "print(divide1(6, 2))\n",
        "print(divide1(6, 0))"
      ],
      "execution_count": null,
      "outputs": [
        {
          "output_type": "stream",
          "text": [
            "3\n",
            "Integer division by 0 not permitted\n",
            "0\n"
          ],
          "name": "stdout"
        }
      ]
    },
    {
      "cell_type": "markdown",
      "metadata": {
        "id": "SqMDH3sQxFD3"
      },
      "source": [
        "hello() decorator wraps name()\n",
        "\n",
        "![](https://d33wubrfki0l68.cloudfront.net/12c8a296cc396d418b5407a4a4c6f9fd7d85f597/e8a54/wp-content/uploads/2018/06/python-decorator.png)\n",
        "\n",
        "![](https://d585tldpucybw.cloudfront.net/sfimages/default-source/blogs/2019/2019-12/decoratorConcept.png)"
      ]
    },
    {
      "cell_type": "markdown",
      "metadata": {
        "id": "jAUiTBFntKJV"
      },
      "source": [
        "Why decorators are useful?\n",
        "\n",
        "1. By making a logger function:\n",
        "\n",
        "(make sure the wrapper function (logging_wrapper) returns the return value of the decorated function (func))"
      ]
    },
    {
      "cell_type": "code",
      "metadata": {
        "id": "K76eJy1qnzT7"
      },
      "source": [
        "def logging_decorator(func):\n",
        "  def logging_wrapper(*args, **kwargs):\n",
        "    print(f'Running {func.__name__}() ...')\n",
        "    result = func(*args, **kwargs)\n",
        "    print(f'Result: {result}')\n",
        "    print(f'{func.__name__}() exited')\n",
        "    return result\n",
        "  return logging_wrapper"
      ],
      "execution_count": null,
      "outputs": []
    },
    {
      "cell_type": "code",
      "metadata": {
        "colab": {
          "base_uri": "https://localhost:8080/"
        },
        "id": "5ZjFhOAxqWUi",
        "outputId": "16fc9098-9bfc-4bb7-cd91-25a38c5548e0"
      },
      "source": [
        "@logging_decorator\n",
        "def sum(x, y):\n",
        "  return (x + y)\n",
        "  \n",
        "@logging_decorator\n",
        "def sub(x, y):\n",
        "  return (x - y)\n",
        "\n",
        "added = sum(2, 1)\n",
        "subtracted = sub(2, 1)"
      ],
      "execution_count": null,
      "outputs": [
        {
          "output_type": "stream",
          "text": [
            "Running sum() ...\n",
            "Result: 3\n",
            "sum() exited\n",
            "Running sub() ...\n",
            "Result: 1\n",
            "sub() exited\n"
          ],
          "name": "stdout"
        }
      ]
    },
    {
      "cell_type": "markdown",
      "metadata": {
        "id": "vKcWgX8UsLPf"
      },
      "source": [
        "\n",
        "  -  see result of functions on every step\n",
        "  - finding errors (by making something like a call stack)"
      ]
    },
    {
      "cell_type": "code",
      "metadata": {
        "colab": {
          "base_uri": "https://localhost:8080/",
          "height": 434
        },
        "id": "UwJnvrmHqqvR",
        "outputId": "8998c2e1-5ca7-430c-e253-3a7610742046"
      },
      "source": [
        "@logging_decorator\n",
        "def moon():\n",
        "  # return \"o\" \n",
        "  return \"o\" + 2\n",
        "\n",
        "@logging_decorator\n",
        "def stars():\n",
        "  return \"*\"\n",
        "\n",
        "@logging_decorator\n",
        "def night_sky():\n",
        "  return stars() + moon() + stars()\n",
        "\n",
        "night_sky()"
      ],
      "execution_count": null,
      "outputs": [
        {
          "output_type": "stream",
          "text": [
            "Running night_sky() ...\n",
            "Running stars() ...\n",
            "Result: *\n",
            "stars() exited\n",
            "Running moon() ...\n"
          ],
          "name": "stdout"
        },
        {
          "output_type": "error",
          "ename": "TypeError",
          "evalue": "ignored",
          "traceback": [
            "\u001b[0;31m---------------------------------------------------------------------------\u001b[0m",
            "\u001b[0;31mTypeError\u001b[0m                                 Traceback (most recent call last)",
            "\u001b[0;32m<ipython-input-21-0d91a2b6bd0b>\u001b[0m in \u001b[0;36m<module>\u001b[0;34m()\u001b[0m\n\u001b[1;32m     12\u001b[0m   \u001b[0;32mreturn\u001b[0m \u001b[0mstars\u001b[0m\u001b[0;34m(\u001b[0m\u001b[0;34m)\u001b[0m \u001b[0;34m+\u001b[0m \u001b[0mmoon\u001b[0m\u001b[0;34m(\u001b[0m\u001b[0;34m)\u001b[0m \u001b[0;34m+\u001b[0m \u001b[0mstars\u001b[0m\u001b[0;34m(\u001b[0m\u001b[0;34m)\u001b[0m\u001b[0;34m\u001b[0m\u001b[0;34m\u001b[0m\u001b[0m\n\u001b[1;32m     13\u001b[0m \u001b[0;34m\u001b[0m\u001b[0m\n\u001b[0;32m---> 14\u001b[0;31m \u001b[0mnight_sky\u001b[0m\u001b[0;34m(\u001b[0m\u001b[0;34m)\u001b[0m\u001b[0;34m\u001b[0m\u001b[0;34m\u001b[0m\u001b[0m\n\u001b[0m",
            "\u001b[0;32m<ipython-input-19-f67f4685398e>\u001b[0m in \u001b[0;36mlogging_wrapper\u001b[0;34m(*args, **kwargs)\u001b[0m\n\u001b[1;32m      2\u001b[0m   \u001b[0;32mdef\u001b[0m \u001b[0mlogging_wrapper\u001b[0m\u001b[0;34m(\u001b[0m\u001b[0;34m*\u001b[0m\u001b[0margs\u001b[0m\u001b[0;34m,\u001b[0m \u001b[0;34m**\u001b[0m\u001b[0mkwargs\u001b[0m\u001b[0;34m)\u001b[0m\u001b[0;34m:\u001b[0m\u001b[0;34m\u001b[0m\u001b[0;34m\u001b[0m\u001b[0m\n\u001b[1;32m      3\u001b[0m     \u001b[0mprint\u001b[0m\u001b[0;34m(\u001b[0m\u001b[0;34mf'Running {func.__name__}() ...'\u001b[0m\u001b[0;34m)\u001b[0m\u001b[0;34m\u001b[0m\u001b[0;34m\u001b[0m\u001b[0m\n\u001b[0;32m----> 4\u001b[0;31m     \u001b[0mresult\u001b[0m \u001b[0;34m=\u001b[0m \u001b[0mfunc\u001b[0m\u001b[0;34m(\u001b[0m\u001b[0;34m*\u001b[0m\u001b[0margs\u001b[0m\u001b[0;34m,\u001b[0m \u001b[0;34m**\u001b[0m\u001b[0mkwargs\u001b[0m\u001b[0;34m)\u001b[0m\u001b[0;34m\u001b[0m\u001b[0;34m\u001b[0m\u001b[0m\n\u001b[0m\u001b[1;32m      5\u001b[0m     \u001b[0mprint\u001b[0m\u001b[0;34m(\u001b[0m\u001b[0;34mf'Result: {result}'\u001b[0m\u001b[0;34m)\u001b[0m\u001b[0;34m\u001b[0m\u001b[0;34m\u001b[0m\u001b[0m\n\u001b[1;32m      6\u001b[0m     \u001b[0mprint\u001b[0m\u001b[0;34m(\u001b[0m\u001b[0;34mf'{func.__name__}() exited'\u001b[0m\u001b[0;34m)\u001b[0m\u001b[0;34m\u001b[0m\u001b[0;34m\u001b[0m\u001b[0m\n",
            "\u001b[0;32m<ipython-input-21-0d91a2b6bd0b>\u001b[0m in \u001b[0;36mnight_sky\u001b[0;34m()\u001b[0m\n\u001b[1;32m     10\u001b[0m \u001b[0;34m@\u001b[0m\u001b[0mlogging_decorator\u001b[0m\u001b[0;34m\u001b[0m\u001b[0;34m\u001b[0m\u001b[0m\n\u001b[1;32m     11\u001b[0m \u001b[0;32mdef\u001b[0m \u001b[0mnight_sky\u001b[0m\u001b[0;34m(\u001b[0m\u001b[0;34m)\u001b[0m\u001b[0;34m:\u001b[0m\u001b[0;34m\u001b[0m\u001b[0;34m\u001b[0m\u001b[0m\n\u001b[0;32m---> 12\u001b[0;31m   \u001b[0;32mreturn\u001b[0m \u001b[0mstars\u001b[0m\u001b[0;34m(\u001b[0m\u001b[0;34m)\u001b[0m \u001b[0;34m+\u001b[0m \u001b[0mmoon\u001b[0m\u001b[0;34m(\u001b[0m\u001b[0;34m)\u001b[0m \u001b[0;34m+\u001b[0m \u001b[0mstars\u001b[0m\u001b[0;34m(\u001b[0m\u001b[0;34m)\u001b[0m\u001b[0;34m\u001b[0m\u001b[0;34m\u001b[0m\u001b[0m\n\u001b[0m\u001b[1;32m     13\u001b[0m \u001b[0;34m\u001b[0m\u001b[0m\n\u001b[1;32m     14\u001b[0m \u001b[0mnight_sky\u001b[0m\u001b[0;34m(\u001b[0m\u001b[0;34m)\u001b[0m\u001b[0;34m\u001b[0m\u001b[0;34m\u001b[0m\u001b[0m\n",
            "\u001b[0;32m<ipython-input-19-f67f4685398e>\u001b[0m in \u001b[0;36mlogging_wrapper\u001b[0;34m(*args, **kwargs)\u001b[0m\n\u001b[1;32m      2\u001b[0m   \u001b[0;32mdef\u001b[0m \u001b[0mlogging_wrapper\u001b[0m\u001b[0;34m(\u001b[0m\u001b[0;34m*\u001b[0m\u001b[0margs\u001b[0m\u001b[0;34m,\u001b[0m \u001b[0;34m**\u001b[0m\u001b[0mkwargs\u001b[0m\u001b[0;34m)\u001b[0m\u001b[0;34m:\u001b[0m\u001b[0;34m\u001b[0m\u001b[0;34m\u001b[0m\u001b[0m\n\u001b[1;32m      3\u001b[0m     \u001b[0mprint\u001b[0m\u001b[0;34m(\u001b[0m\u001b[0;34mf'Running {func.__name__}() ...'\u001b[0m\u001b[0;34m)\u001b[0m\u001b[0;34m\u001b[0m\u001b[0;34m\u001b[0m\u001b[0m\n\u001b[0;32m----> 4\u001b[0;31m     \u001b[0mresult\u001b[0m \u001b[0;34m=\u001b[0m \u001b[0mfunc\u001b[0m\u001b[0;34m(\u001b[0m\u001b[0;34m*\u001b[0m\u001b[0margs\u001b[0m\u001b[0;34m,\u001b[0m \u001b[0;34m**\u001b[0m\u001b[0mkwargs\u001b[0m\u001b[0;34m)\u001b[0m\u001b[0;34m\u001b[0m\u001b[0;34m\u001b[0m\u001b[0m\n\u001b[0m\u001b[1;32m      5\u001b[0m     \u001b[0mprint\u001b[0m\u001b[0;34m(\u001b[0m\u001b[0;34mf'Result: {result}'\u001b[0m\u001b[0;34m)\u001b[0m\u001b[0;34m\u001b[0m\u001b[0;34m\u001b[0m\u001b[0m\n\u001b[1;32m      6\u001b[0m     \u001b[0mprint\u001b[0m\u001b[0;34m(\u001b[0m\u001b[0;34mf'{func.__name__}() exited'\u001b[0m\u001b[0;34m)\u001b[0m\u001b[0;34m\u001b[0m\u001b[0;34m\u001b[0m\u001b[0m\n",
            "\u001b[0;32m<ipython-input-21-0d91a2b6bd0b>\u001b[0m in \u001b[0;36mmoon\u001b[0;34m()\u001b[0m\n\u001b[1;32m      2\u001b[0m \u001b[0;32mdef\u001b[0m \u001b[0mmoon\u001b[0m\u001b[0;34m(\u001b[0m\u001b[0;34m)\u001b[0m\u001b[0;34m:\u001b[0m\u001b[0;34m\u001b[0m\u001b[0;34m\u001b[0m\u001b[0m\n\u001b[1;32m      3\u001b[0m   \u001b[0;31m# return \"o\"\u001b[0m\u001b[0;34m\u001b[0m\u001b[0;34m\u001b[0m\u001b[0;34m\u001b[0m\u001b[0m\n\u001b[0;32m----> 4\u001b[0;31m   \u001b[0;32mreturn\u001b[0m \u001b[0;34m\"o\"\u001b[0m \u001b[0;34m+\u001b[0m \u001b[0;36m2\u001b[0m\u001b[0;34m\u001b[0m\u001b[0;34m\u001b[0m\u001b[0m\n\u001b[0m\u001b[1;32m      5\u001b[0m \u001b[0;34m\u001b[0m\u001b[0m\n\u001b[1;32m      6\u001b[0m \u001b[0;34m@\u001b[0m\u001b[0mlogging_decorator\u001b[0m\u001b[0;34m\u001b[0m\u001b[0;34m\u001b[0m\u001b[0m\n",
            "\u001b[0;31mTypeError\u001b[0m: must be str, not int"
          ]
        }
      ]
    },
    {
      "cell_type": "markdown",
      "metadata": {
        "id": "2K0g9Wmn1hup"
      },
      "source": [
        "2. Validation and runtime checks\n",
        "\n",
        "  Check that the result is whats its supposed to be"
      ]
    },
    {
      "cell_type": "code",
      "metadata": {
        "id": "LDwW0JHF1kI1"
      },
      "source": [
        "def validate_summary(func):\n",
        "    def wrapper(*args, **kwargs):\n",
        "        data = func(*args, **kwargs)\n",
        "        if len(data[\"summary\"]) > 80:\n",
        "            raise ValueError(\"Summary too long\")\n",
        "        return data\n",
        "    return wrapper\n",
        "\n",
        "@validate_summary\n",
        "def queryA(params):\n",
        "    # ...\n",
        "\n",
        "@validate_summary\n",
        "def queryB(params):\n",
        "    # ...\n",
        "\n",
        "@validate_summary\n",
        "def queryC(params):\n",
        "    # ..."
      ],
      "execution_count": null,
      "outputs": []
    },
    {
      "cell_type": "markdown",
      "metadata": {
        "id": "OQJpqJI1s2JL"
      },
      "source": [
        "3.  If there is any behaviour that is common to more than one function, you probably need to make a decorator."
      ]
    },
    {
      "cell_type": "markdown",
      "metadata": {
        "id": "GgBL3Enr2zah"
      },
      "source": [
        "4. Reusing code\n",
        "\n",
        "  Consider working with a flakey API. You make requests to something that return JSON over HTTP, and it works correctly 99.9% of the time. But… a small fraction of all requests will cause the server to return an internal error, and you need to retry the request. \n",
        "  \n",
        "  In that case, you’d implement some retry logic:"
      ]
    },
    {
      "cell_type": "code",
      "metadata": {
        "id": "0700b9tX3MCk"
      },
      "source": [
        "# ...\n",
        "response = None\n",
        "while True:\n",
        "    response = make_api_call()\n",
        "    if response.status_code == 500 and tries < MAX_TRIES:\n",
        "        tries += 1\n",
        "        continue\n",
        "    break\n",
        "# ..."
      ],
      "execution_count": null,
      "outputs": []
    },
    {
      "cell_type": "markdown",
      "metadata": {
        "id": "JCS7mN9b37xi"
      },
      "source": [
        "Now imagine you have dozens of functions like make_api_call(), and they are called all over the codebase. Are you going to implement that while loop everywhere?"
      ]
    },
    {
      "cell_type": "code",
      "metadata": {
        "id": "_CakCe5N39iv"
      },
      "source": [
        "def retry(func):\n",
        "    def retried_func(*args, **kwargs):\n",
        "        MAX_TRIES = 3\n",
        "        tries = 0\n",
        "        while True:\n",
        "            response = func(*args, **kwargs)\n",
        "            if response.status_code == 500 and tries < MAX_TRIES:\n",
        "                tries += 1\n",
        "                continue\n",
        "            break\n",
        "        return response\n",
        "    return retried_func\n",
        "\n",
        "@retry\n",
        "def make_api_call():\n",
        "    # ...."
      ],
      "execution_count": null,
      "outputs": []
    },
    {
      "cell_type": "markdown",
      "metadata": {
        "id": "TyJSO-WT0Uea"
      },
      "source": [
        "5. Creating frameworks (abstraction yay!)\n",
        "\n",
        "  Example: Flask! \n",
        "  That `route` method returns a decorator that is applied to the handler function. All other complexity is completely hidden."
      ]
    },
    {
      "cell_type": "code",
      "metadata": {
        "id": "gC40ySG8ijSq"
      },
      "source": [
        "# For a RESTful todo-list API.\n",
        "@app.route(\"/tasks/\", methods=[\"GET\"])\n",
        "def get_all_tasks():\n",
        "    tasks = app.store.get_all_tasks()\n",
        "    return make_response(json.dumps(tasks), 200)\n",
        "\n",
        "@app.route(\"/tasks/\", methods=[\"POST\"])\n",
        "def create_task():\n",
        "    payload = request.get_json(force=True)\n",
        "    task_id = app.store.create_task(\n",
        "        summary = payload[\"summary\"],\n",
        "        description = payload[\"description\"],\n",
        "    )\n",
        "    task_info = {\"id\": task_id}\n",
        "    return make_response(json.dumps(task_info), 201)\n",
        "\n",
        "@app.route(\"/tasks/<int:task_id>/\")\n",
        "def task_details(task_id):\n",
        "    task_info = app.store.task_details(task_id)\n",
        "    if task_info is None:\n",
        "        return make_response(\"\", 404)\n",
        "    return json.dumps(task_info)"
      ],
      "execution_count": null,
      "outputs": []
    },
    {
      "cell_type": "markdown",
      "metadata": {
        "id": "HXrWOyeK8bWe"
      },
      "source": [
        "\n",
        "Using decorators:\n",
        "\n"
      ]
    },
    {
      "cell_type": "markdown",
      "metadata": {
        "id": "tfX3r18n8qjH"
      },
      "source": [
        "1. Decorators on classes\n",
        "\n",
        "  i) decorate the methods of a class\n",
        "\n",
        "    The @property decorator is used to customize getters and setters for class attributes.\n",
        "    Properties are accessed as attributes without parentheses."
      ]
    },
    {
      "cell_type": "code",
      "metadata": {
        "colab": {
          "base_uri": "https://localhost:8080/"
        },
        "id": "bW_xyvmJ8u6H",
        "outputId": "42c989d4-78c9-40c9-b4c6-fc0ea9a39b5f"
      },
      "source": [
        "class Circle:\n",
        "    def __init__(self, radius):\n",
        "        self._radius = radius\n",
        "\n",
        "    @property\n",
        "    def radius(self):\n",
        "        \"\"\"Get value of radius\"\"\"\n",
        "        return self._radius\n",
        "\n",
        "    @radius.setter \n",
        "    def radius(self, value):\n",
        "        \"\"\"Set radius value\"\"\"\n",
        "        self._radius = value\n",
        "\n",
        "circle = Circle(5)\n",
        "print(circle.radius)\n",
        "circle.radius = 4\n",
        "print(circle.radius)"
      ],
      "execution_count": null,
      "outputs": [
        {
          "output_type": "execute_result",
          "data": {
            "text/plain": [
              "4"
            ]
          },
          "metadata": {
            "tags": []
          },
          "execution_count": 43
        }
      ]
    },
    {
      "cell_type": "markdown",
      "metadata": {
        "id": "pWnEOwXW-7Ne"
      },
      "source": [
        "  ii) decorate the whole class\n",
        "\n",
        "  Decorating a class does not decorate its methods."
      ]
    },
    {
      "cell_type": "code",
      "metadata": {
        "colab": {
          "base_uri": "https://localhost:8080/"
        },
        "id": "35a3ClvLNGRg",
        "outputId": "12b82351-cfcb-47d4-9989-107f0765e497"
      },
      "source": [
        "@logging_decorator\n",
        "class TimeWaster:\n",
        "    def __init__(self, max_num):\n",
        "        self.max_num = max_num\n",
        "\n",
        "    def waste_time(self, num_times):\n",
        "        for _ in range(num_times):\n",
        "            # do something\n",
        "            for _ in range(num_times):\n",
        "                pass\n",
        "        return 0\n",
        "\n",
        "tw = TimeWaster(1000)\n",
        "tw.waste_time(2)\n",
        "print(type(TimeWaster))\n",
        "print(type(tw))"
      ],
      "execution_count": null,
      "outputs": [
        {
          "output_type": "stream",
          "text": [
            "Running TimeWaster() ...\n",
            "Result: <__main__.TimeWaster object at 0x7f6dfcfb5198>\n",
            "TimeWaster() exited\n",
            "<class 'function'>\n",
            "<class '__main__.TimeWaster'>\n"
          ],
          "name": "stdout"
        }
      ]
    },
    {
      "cell_type": "markdown",
      "metadata": {
        "id": "PT6ioLrkQXiC"
      },
      "source": [
        "2. Classes as decorators\n",
        "\n",
        "  - decorate functions"
      ]
    },
    {
      "cell_type": "markdown",
      "metadata": {
        "id": "EmvIMdh4njtT"
      },
      "source": [
        "A callable object is an object which can be used and behaves like a function but might not be a function. It is possible to define classes in a way that the instances will be callable objects. The __call__ method is called, if the instance is called \"like a function\", i.e. using brackets."
      ]
    },
    {
      "cell_type": "code",
      "metadata": {
        "id": "VsVMnu_NQjR4"
      },
      "source": [
        "# decorator class, a callable object\n",
        "class Counter:\n",
        "    def __init__(self, func):\n",
        "        print(\"Counter init\")\n",
        "        self.func = func\n",
        "        self._num_calls = 0\n",
        "\n",
        "    def __call__(self, *args, **kwargs):\n",
        "        self._num_calls += 1\n",
        "        print(f\"Call {self._num_calls} of {self.func.__name__!r}\")\n",
        "        return self.func(*args, **kwargs)\n",
        "\n",
        "    @property # GETTER\n",
        "    def num_calls(self):\n",
        "        return self._num_calls\n",
        "\n",
        "    def do(self):\n",
        "        return \"a\"\n",
        "\n",
        "    def do3(self):\n",
        "      return \"C\"\n",
        "\n",
        "# callabe object? \n",
        "# counter = Counter()\n",
        "# counter()"
      ],
      "execution_count": null,
      "outputs": []
    },
    {
      "cell_type": "code",
      "metadata": {
        "colab": {
          "base_uri": "https://localhost:8080/"
        },
        "id": "SI0pzO3TQnqA",
        "outputId": "41e2c47f-72d6-4be6-fec9-198dbba43ad7"
      },
      "source": [
        "@Counter\n",
        "def say_whee():\n",
        "    print(\"Whee!\")\n",
        "\n",
        "say_whee()\n",
        "say_whee()\n",
        "say_whee()\n",
        "\n",
        "print(say_whee.num_calls)\n",
        "print(type(say_whee))"
      ],
      "execution_count": null,
      "outputs": [
        {
          "output_type": "stream",
          "text": [
            "Counter init\n",
            "Call 1 of 'say_whee'\n",
            "Whee!\n",
            "Call 2 of 'say_whee'\n",
            "Whee!\n",
            "Call 3 of 'say_whee'\n",
            "Whee!\n",
            "3\n",
            "<class '__main__.Counter'>\n"
          ],
          "name": "stdout"
        }
      ]
    },
    {
      "cell_type": "markdown",
      "metadata": {
        "id": "iSV3t4j5lXWs"
      },
      "source": [
        "  - decorate classes\n",
        "\n",
        "    Decorating a class does not decorate its methods."
      ]
    },
    {
      "cell_type": "code",
      "metadata": {
        "colab": {
          "base_uri": "https://localhost:8080/"
        },
        "id": "rquSzANgS9vM",
        "outputId": "8acb9e17-1b0e-4099-9ca1-d96609b35723"
      },
      "source": [
        "@Counter\n",
        "class Do:\n",
        "    def __init__(self):\n",
        "      print(\"Do init\")\n",
        "      self.doer = \"harry\"\n",
        "    def do(self):\n",
        "      return \"A\"\n",
        "    def do2(self):\n",
        "      return \"B\"\n",
        "\n",
        "does = Do()\n",
        "print(does.doer)\n",
        "print(does.do2())\n",
        "print(does.do())\n",
        "# print(does.do3())\n",
        "does2 = Do()\n",
        "print(type(Do))\n",
        "print(type(does))"
      ],
      "execution_count": null,
      "outputs": [
        {
          "output_type": "stream",
          "text": [
            "Counter init\n",
            "Call 1 of 'Do'\n",
            "Do init\n",
            "harry\n",
            "B\n",
            "A\n",
            "Call 2 of 'Do'\n",
            "Do init\n",
            "<class '__main__.Counter'>\n",
            "<class '__main__.Do'>\n"
          ],
          "name": "stdout"
        }
      ]
    },
    {
      "cell_type": "markdown",
      "metadata": {
        "id": "iqTTOIqZ2EEa"
      },
      "source": [
        "Counter decorator decorates the __init__() constructor and not the Do class, in a sense. \n",
        "\n",
        "\n",
        "When we call Do(), it makes a Counter object then because we called it () it runs __call__() which returns func() which here is Do() instance."
      ]
    },
    {
      "cell_type": "markdown",
      "metadata": {
        "id": "4oJ5dd5Thq8t"
      },
      "source": [
        "### Refernces\n",
        "\n",
        "- https://realpython.com/primer-on-python-decorators/\n",
        "- https://www.oreilly.com/content/5-reasons-you-need-to-learn-to-write-python-decorators/\n",
        "- https://www.python-course.eu/python3_decorators.php"
      ]
    }
  ]
}